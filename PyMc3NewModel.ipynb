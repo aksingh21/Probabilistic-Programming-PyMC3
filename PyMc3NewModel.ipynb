{
  "nbformat": 4,
  "nbformat_minor": 0,
  "metadata": {
    "colab": {
      "name": "PyMc3NewModel.ipynb",
      "version": "0.3.2",
      "provenance": [],
      "include_colab_link": true
    },
    "kernelspec": {
      "name": "python3",
      "display_name": "Python 3"
    }
  },
  "cells": [
    {
      "cell_type": "markdown",
      "metadata": {
        "id": "view-in-github",
        "colab_type": "text"
      },
      "source": [
        "<a href=\"https://colab.research.google.com/github/aksingh21/Probabilistic-Programming-PyMC3/blob/master/PyMc3NewModel.ipynb\" target=\"_parent\"><img src=\"https://colab.research.google.com/assets/colab-badge.svg\" alt=\"Open In Colab\"/></a>"
      ]
    },
    {
      "metadata": {
        "id": "XcsSSWH4n--U",
        "colab_type": "text"
      },
      "cell_type": "markdown",
      "source": [
        "**Conditional Autoregressive (CAR)**\n",
        "\n",
        "---\n",
        "\n",
        "\n",
        "Tutorial from https://docs.pymc.io/notebooks/PyMC3_tips_and_heuristic.html"
      ]
    },
    {
      "metadata": {
        "id": "j6ae43jvjus2",
        "colab_type": "code",
        "colab": {
          "base_uri": "https://localhost:8080/",
          "height": 34
        },
        "outputId": "83c2b19e-9cdc-4846-8f30-9a1d1e0397d5"
      },
      "cell_type": "code",
      "source": [
        "%pylab inline\n",
        "\n",
        "import scipy.stats as stats\n",
        "import pymc3 as pm\n",
        "from theano import shared\n",
        "import theano\n",
        "import theano.tensor as tt\n",
        "\n",
        "floarX = \"float32\"\n",
        "\n",
        "%config InlineBackend.fegure_format = 'retina'\n",
        "plt.style.use('ggplot')"
      ],
      "execution_count": 1,
      "outputs": [
        {
          "output_type": "stream",
          "text": [
            "Populating the interactive namespace from numpy and matplotlib\n"
          ],
          "name": "stdout"
        }
      ]
    },
    {
      "metadata": {
        "id": "0o8nmBtwn7M9",
        "colab_type": "text"
      },
      "cell_type": "markdown",
      "source": [
        "**Data**"
      ]
    },
    {
      "metadata": {
        "id": "Q7iXpKCEkUk5",
        "colab_type": "code",
        "colab": {}
      },
      "cell_type": "code",
      "source": [
        "county = np.array([\"skye_lochalsh\", \"banff_buchan\", \"caithness,berwickshire\", \"ross_cromarty\",\n",
        "                   \"orkney\", \"moray\", \"shetland\", \"lochaber\", \"gordon\", \"western_isles\",\n",
        "                   \"sutherland\", \"nairn\", \"wigtown\", \"NE.fife\", \"kincardine\", \"badenoch\",\n",
        "                   \"ettrick\", \"inverness\", \"roxburgh\", \"angus\", \"aberdeen\", \"argyll_bute\",\n",
        "                   \"clydesdale\", \"kirkcaldy\", \"dunfermline\", \"nithsdale\", \"east_lothian\",\n",
        "                   \"perth_kinross\", \"west_lothian\", \"cumnock_doon\", \"stewartry\", \"midlothian\",\n",
        "                   \"stirling\", \"kyle_carrick\", \"inverclyde\", \"cunninghame\", \"monklands\",\n",
        "                   \"dumbarton\", \"clydebank\", \"renfrew\", \"falkirk\", \"clackmannan\", \"motherwell\",\n",
        "                   \"edinburgh\", \"kilmarnock\", \"east_kilbride\", \"hamilton\", \"glasgow\", \"dundee\",\n",
        "                   \"cumbernauld\", \"bearsden\", \"eastwood\", \"strathkelvin\", \"tweeddale\",\n",
        "                   \"annandale\"])\n",
        "\n",
        "#observed\n",
        "O = np.array([9, 39, 11, 9, 15, 8, 26, 7, 6, 20, 13, 5, 3, 8, 17, 9, 2, 7, 9, 7, 16,\n",
        "              31, 11, 7, 19, 15, 7, 10, 16, 11, 5, 3, 7, 8, 11, 9, 11, 8, 6, 4, 10,\n",
        "              8, 2, 6, 19, 3, 2, 3, 28, 6, 1, 1, 1, 1, 0, 0])\n",
        "N = len(O)\n",
        "\n",
        "#expected (E) rates, based on the age of the local population\n",
        "E = np.array([1.4, 8.7, 3.0, 2.5, 4.3, 2.4, 8.1, 2.3, 2.0, 6.6, 4.4, 1.8, 1.1, 3.3,\n",
        "              7.8, 4.6, 1.1, 4.2, 5.5, 4.4, 10.5, 22.7, 8.8, 5.6, 15.5, 12.5, 6.0,\n",
        "              9.0, 14.4, 10.2, 4.8, 2.9, 7.0, 8.5, 12.3, 10.1, 12.7, 9.4, 7.2, 5.3,\n",
        "              18.8, 15.8, 4.3, 14.6, 50.7, 8.2, 5.6, 9.3, 88.7, 19.6, 3.4, 3.6, 5.7,\n",
        "              7.0, 4.2, 1.8])\n",
        "\n",
        "logE = np.log(E)\n",
        "\n",
        "# proportion of the population engaged in agriculture, forestry, or fishing (AFF)\n",
        "aff = np.array([16, 16, 10, 24, 10, 24, 10, 7, 7, 16, 7, 16, 10, 24, 7, 16, 10, 7,\n",
        "                7, 10, 7, 16, 10, 7, 1, 1, 7, 7, 10, 10, 7, 24, 10, 7, 7, 0, 10, 1,\n",
        "                16, 0, 1, 16, 16, 0, 1, 7, 1, 1, 0, 1, 1, 0, 1, 1, 16, 10])/10.\n",
        "\n",
        "\n",
        "#Spatial adjacency information\n",
        "adj = np.array([[5, 9, 11,19],\n",
        "                [7, 10],\n",
        "                [6, 12],\n",
        "                [18,20,28],\n",
        "                [1, 11,12,13,19],\n",
        "                [3, 8],\n",
        "                [2, 10,13,16,17],\n",
        "                [6],\n",
        "                [1, 11,17,19,23,29],\n",
        "                [2, 7, 16,22],\n",
        "                [1, 5, 9, 12],\n",
        "                [3, 5, 11],\n",
        "                [5, 7, 17,19],\n",
        "                [31,32,35],\n",
        "                [25,29,50],\n",
        "                [7, 10,17,21,22,29],\n",
        "                [7, 9, 13,16,19,29],\n",
        "                [4,20, 28,33,55,56],\n",
        "                [1, 5, 9, 13,17],\n",
        "                [4, 18,55],\n",
        "                [16,29,50],\n",
        "                [10,16],\n",
        "                [9, 29,34,36,37,39],\n",
        "                [27,30,31,44,47,48,55,56],\n",
        "                [15,26,29],\n",
        "                [25,29,42,43],\n",
        "                [24,31,32,55],\n",
        "                [4, 18,33,45],\n",
        "                [9, 15,16,17,21,23,25,26,34,43,50],\n",
        "                [24,38,42,44,45,56],\n",
        "                [14,24,27,32,35,46,47],\n",
        "                [14,27,31,35],\n",
        "                [18,28,45,56],\n",
        "                [23,29,39,40,42,43,51,52,54],\n",
        "                [14,31,32,37,46],\n",
        "                [23,37,39,41],\n",
        "                [23,35,36,41,46],\n",
        "                [30,42,44,49,51,54],\n",
        "                [23,34,36,40,41],\n",
        "                [34,39,41,49,52],\n",
        "                [36,37,39,40,46,49,53],\n",
        "                [26,30,34,38,43,51],\n",
        "                [26,29,34,42],\n",
        "                [24,30,38,48,49],\n",
        "                [28,30,33,56],\n",
        "                [31,35,37,41,47,53],\n",
        "                [24,31,46,48,49,53],\n",
        "                [24,44,47,49],\n",
        "                [38,40,41,44,47,48,52,53,54],\n",
        "                [15,21,29],\n",
        "                [34,38,42,54],\n",
        "                [34,40,49,54],\n",
        "                [41,46,47,49],\n",
        "                [34,38,49,51,52],\n",
        "                [18,20,24,27,56],\n",
        "                [18,24,30,33,45,55]])\n",
        "\n",
        "#change to Python indexing (i.e. -1)\n",
        "for i in range (len(adj)):\n",
        "  for j in range (len(adj[i])):\n",
        "    adj[i][j] = adj[i][j]-1\n",
        "    \n",
        "\n",
        "# spatial weight\n",
        "weights = np.array([[1,1,1,1],\n",
        "                    [1,1],\n",
        "                    [1,1],\n",
        "                    [1,1,1],\n",
        "                    [1,1,1,1,1],\n",
        "                    [1,1],\n",
        "                    [1,1,1,1,1],\n",
        "                    [1],\n",
        "                    [1,1,1,1,1,1],\n",
        "                    [1,1,1,1],\n",
        "                    [1,1,1,1],\n",
        "                    [1,1,1],\n",
        "                    [1,1,1,1],\n",
        "                    [1,1,1],\n",
        "                    [1,1,1],\n",
        "                    [1,1,1,1,1,1],\n",
        "                    [1,1,1,1,1,1],\n",
        "                    [1,1,1,1,1,1],\n",
        "                    [1,1,1,1,1],\n",
        "                    [1,1,1],\n",
        "                    [1,1,1],\n",
        "                    [1,1],\n",
        "                    [1,1,1,1,1,1],\n",
        "                    [1,1,1,1,1,1,1,1],\n",
        "                    [1,1,1],\n",
        "                    [1,1,1,1],\n",
        "                    [1,1,1,1],\n",
        "                    [1,1,1,1],\n",
        "                    [1,1,1,1,1,1,1,1,1,1,1],\n",
        "                    [1,1,1,1,1,1],\n",
        "                    [1,1,1,1,1,1,1],\n",
        "                    [1,1,1,1],\n",
        "                    [1,1,1,1],\n",
        "                    [1,1,1,1,1,1,1,1,1],\n",
        "                    [1,1,1,1,1],\n",
        "                    [1,1,1,1],\n",
        "                    [1,1,1,1,1],\n",
        "                    [1,1,1,1,1,1],\n",
        "                    [1,1,1,1,1],\n",
        "                    [1,1,1,1,1],\n",
        "                    [1,1,1,1,1,1,1],\n",
        "                    [1,1,1,1,1,1],\n",
        "                    [1,1,1,1],\n",
        "                    [1,1,1,1,1],\n",
        "                    [1,1,1,1],\n",
        "                    [1,1,1,1,1,1],\n",
        "                    [1,1,1,1,1,1],\n",
        "                    [1,1,1,1],\n",
        "                    [1,1,1,1,1,1,1,1,1],\n",
        "                    [1,1,1],\n",
        "                    [1,1,1,1],\n",
        "                    [1,1,1,1],\n",
        "                    [1,1,1,1],\n",
        "                    [1,1,1,1,1],\n",
        "                    [1,1,1,1,1],\n",
        "                    [1,1,1,1,1,1]])\n",
        "\n",
        "Wplus = np.asarray([sum(w) for w in weights])"
      ],
      "execution_count": 0,
      "outputs": []
    },
    {
      "metadata": {
        "id": "NpSQfsCttUWE",
        "colab_type": "text"
      },
      "cell_type": "markdown",
      "source": [
        "**PyMC3 implementation using theano.scan**"
      ]
    },
    {
      "metadata": {
        "id": "CpZO7qr1q-U_",
        "colab_type": "code",
        "colab": {
          "base_uri": "https://localhost:8080/",
          "height": 503
        },
        "outputId": "4b897fcb-739e-47b1-fdef-732b40ef9c3e"
      },
      "cell_type": "code",
      "source": [
        "value = np.asarray(np.random.randn(N,), dtype = theano.config.floatX)\n",
        "\n",
        "maxwz = max([sum(w) for w in weights])\n",
        "\n",
        "N = len(weights)\n",
        "wmat = np.zeros((N,maxz))\n",
        "amat = np.zeros((N, maxwz), dtype='int32')\n",
        "\n",
        "for i, w in enumerate(weights):\n",
        "  wmat[i, np.arange(len(w))] = w\n",
        "  amat[i, np.arange(len(w))] = adj[i]\n",
        "  \n",
        "#defining a tensor variables\n",
        "x = tt.vector(\"x\")\n",
        "x.tag.test_value = value\n",
        "w = tt.matrix(\"w\")\n",
        "\n",
        "#provide Theano with a default\n",
        "w.tag.test_value = wmat\n",
        "a = tt.matrix(\"a\", dtype='int32')\n",
        "a.tag.test_value = amat\n",
        "\n",
        "\n",
        "def get_mu(w, a):\n",
        "  a1 = tt.cast(a, 'int32')\n",
        "  return tt.sum(w*x[a1])/tt.sum(w)\n",
        "\n",
        "results, _ = theano.scan(fn=get_mu, sequences=[w,a])\n",
        "compute_elementwise = theano.function(inputs=[x, w, a], outputs=results)\n",
        "\n",
        "print(compute_elementwise(value,wmat,amat))\n",
        "\n",
        "\n",
        "def mu_phi(value):\n",
        "  N = len(weights)\n",
        "  #calculate mu based on average neighbours\n",
        "  mu = np.array([np.sum(weights[i]*value[adj[i]])/Wplus[i] for i in range(N)])\n",
        "  return mu\n",
        "\n",
        "print(mu_phi(value))"
      ],
      "execution_count": 33,
      "outputs": [
        {
          "output_type": "stream",
          "text": [
            "[ 3.76698858e-01 -2.66953831e-01 -6.93575078e-01  2.20222393e-01\n",
            " -3.98220820e-01 -9.54106273e-01 -3.14377624e-01 -9.24108500e-01\n",
            "  2.74775646e-01  2.33189208e-01 -7.80516034e-02  8.90493663e-01\n",
            "  1.15997163e+00 -2.57908474e-01  2.54432223e-01  3.23376239e-01\n",
            "  1.92167477e-01  5.33818656e-01  6.29965874e-02 -4.26398362e-01\n",
            "  7.73724717e-01 -6.42745614e-01  3.03850823e-02  1.40758729e-01\n",
            "  6.94557585e-01 -3.68043671e-01 -2.31507322e-01  1.39991601e-01\n",
            " -1.09721925e-02  1.13164214e-01 -1.51086458e-01 -3.01623519e-01\n",
            " -1.53630219e-01 -2.00215654e-01 -9.69223760e-02  1.12697140e-03\n",
            "  3.35129751e-01  1.51270176e-01  2.84839713e-02 -3.07812804e-01\n",
            "  4.96358589e-01 -7.19215589e-01  1.95862925e-01 -6.00526381e-01\n",
            "  4.87753163e-02  3.34043105e-01  3.94796868e-01  8.08646904e-01\n",
            " -9.28190617e-03  1.00612215e+00 -6.61931040e-01 -4.74539358e-02\n",
            "  5.29165131e-01 -5.97746957e-01 -4.47888934e-03 -6.12384901e-02]\n",
            "[ 3.76698858e-01 -2.66953831e-01 -6.93575078e-01  2.20222393e-01\n",
            " -3.98220820e-01 -9.54106273e-01 -3.14377624e-01 -9.24108500e-01\n",
            "  2.74775646e-01  2.33189208e-01 -7.80516034e-02  8.90493663e-01\n",
            "  1.15997163e+00 -2.57908474e-01  2.54432223e-01  3.23376239e-01\n",
            "  1.92167477e-01  5.33818656e-01  6.29965874e-02 -4.26398362e-01\n",
            "  7.73724717e-01 -6.42745614e-01  3.03850823e-02  1.40758729e-01\n",
            "  6.94557585e-01 -3.68043671e-01 -2.31507322e-01  1.39991601e-01\n",
            " -1.09721925e-02  1.13164214e-01 -1.51086458e-01 -3.01623519e-01\n",
            " -1.53630219e-01 -2.00215654e-01 -9.69223760e-02  1.12697140e-03\n",
            "  3.35129751e-01  1.51270176e-01  2.84839713e-02 -3.07812804e-01\n",
            "  4.96358589e-01 -7.19215589e-01  1.95862925e-01 -6.00526381e-01\n",
            "  4.87753163e-02  3.34043105e-01  3.94796868e-01  8.08646904e-01\n",
            " -9.28190617e-03  1.00612215e+00 -6.61931040e-01 -4.74539358e-02\n",
            "  5.29165131e-01 -5.97746957e-01 -4.47888934e-03 -6.12384901e-02]\n"
          ],
          "name": "stdout"
        }
      ]
    },
    {
      "metadata": {
        "id": "4xgf75u21gXw",
        "colab_type": "code",
        "colab": {}
      },
      "cell_type": "code",
      "source": [
        "from theano import scan\n",
        "floatX = \"float32\"\n",
        "\n",
        "from pymc3.distributions import continuous\n",
        "from pymc3.distributions import distribution\n"
      ],
      "execution_count": 0,
      "outputs": []
    },
    {
      "metadata": {
        "id": "UBiT2XRC1hED",
        "colab_type": "code",
        "colab": {
          "base_uri": "https://localhost:8080/",
          "height": 34
        },
        "outputId": "5aa0db23-19c5-41cb-ee32-6517180c6dfb"
      },
      "cell_type": "code",
      "source": [
        "class CAR(distribution.Continuous):\n",
        "  \"\"\"\n",
        "  Conditional Autoregressive (CAR) distribution\n",
        "  \n",
        "  Parameters\n",
        "  __________\n",
        "  a : list of adjacency information\n",
        "  w : list of weight information\n",
        "  tau : precision at each location\n",
        "  \"\"\""
      ],
      "execution_count": 27,
      "outputs": [
        {
          "output_type": "execute_result",
          "data": {
            "text/plain": [
              "array([0, 1])"
            ]
          },
          "metadata": {
            "tags": []
          },
          "execution_count": 27
        }
      ]
    },
    {
      "metadata": {
        "id": "3Gs3IqZs60Nj",
        "colab_type": "code",
        "colab": {}
      },
      "cell_type": "code",
      "source": [
        ""
      ],
      "execution_count": 0,
      "outputs": []
    }
  ]
}